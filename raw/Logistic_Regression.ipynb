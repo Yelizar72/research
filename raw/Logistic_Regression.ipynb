{
  "nbformat": 4,
  "nbformat_minor": 0,
  "metadata": {
    "colab": {
      "provenance": []
    },
    "kernelspec": {
      "name": "python3",
      "display_name": "Python 3"
    },
    "language_info": {
      "name": "python"
    }
  },
  "cells": [
    {
      "cell_type": "code",
      "execution_count": 4,
      "metadata": {
        "colab": {
          "base_uri": "https://localhost:8080/"
        },
        "id": "5YxXrwrVZZR7",
        "outputId": "3e09f8d3-f37c-48ff-912e-3a170085fdd2"
      },
      "outputs": [
        {
          "output_type": "stream",
          "name": "stdout",
          "text": [
            "F1-Score (Validation): 0.4669873088593047\n",
            "Метрика Precision: 0.2949640287769784\n",
            "Метрика Recall: 0.006326184230828576\n",
            "Метрика F0.5: 0.02913173227227512\n",
            "Метрика F2: 0.007865556536085639\n"
          ]
        },
        {
          "output_type": "stream",
          "name": "stderr",
          "text": [
            "/usr/local/lib/python3.10/dist-packages/sklearn/linear_model/_logistic.py:458: ConvergenceWarning: lbfgs failed to converge (status=1):\n",
            "STOP: TOTAL NO. of ITERATIONS REACHED LIMIT.\n",
            "\n",
            "Increase the number of iterations (max_iter) or scale the data as shown in:\n",
            "    https://scikit-learn.org/stable/modules/preprocessing.html\n",
            "Please also refer to the documentation for alternative solver options:\n",
            "    https://scikit-learn.org/stable/modules/linear_model.html#logistic-regression\n",
            "  n_iter_i = _check_optimize_result(\n"
          ]
        }
      ],
      "source": [
        "import pandas as pd\n",
        "from sklearn.model_selection import train_test_split\n",
        "from sklearn.linear_model import LogisticRegression\n",
        "from sklearn.metrics import accuracy_score, precision_score, recall_score, f1_score, fbeta_score\n",
        "train_data = pd.read_csv(r'/content/train_AIC 2.csv')\n",
        "X = train_data.drop(columns=['Месяц3', 'Количество позиций', 'y'])\n",
        "y = train_data['y']\n",
        "X_train, X_test, y_train, y_test = train_test_split(X, y, test_size=0.2, random_state=42)\n",
        "model = LogisticRegression()\n",
        "model.fit(X_train, y_train)\n",
        "y_pred = model.predict(X_test)\n",
        "precision = precision_score(y_test, y_pred)\n",
        "recall = recall_score(y_test, y_pred)\n",
        "beta = 0.5\n",
        "f_beta_05 = (1 + beta**2) * (precision * recall) / ((beta**2 * precision) + recall)\n",
        "beta = 2\n",
        "f_beta_2 = (1 + beta**2) * (precision * recall) / ((beta**2 * precision) + recall)\n",
        "f1_macro = f1_score(y_test, y_pred, average='macro')\n",
        "print(\"F1-Score (Validation):\", f1_macro)\n",
        "print(\"Метрика Precision:\", precision)\n",
        "print(\"Метрика Recall:\", recall)\n",
        "print(\"Метрика F0.5:\", f_beta_05)\n",
        "print(\"Метрика F2:\", f_beta_2)"
      ]
    }
  ]
}
